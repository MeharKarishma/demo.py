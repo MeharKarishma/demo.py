{
 "cells": [
  {
   "cell_type": "markdown",
   "metadata": {},
   "source": [
    "# if"
   ]
  },
  {
   "cell_type": "code",
   "execution_count": 5,
   "metadata": {},
   "outputs": [
    {
     "name": "stdout",
     "output_type": "stream",
     "text": [
      "condition is True\n"
     ]
    }
   ],
   "source": [
    "if True:\n",
    "    print(\"condition is True\")\n",
    "if False:\n",
    "    print(\"condition is False\")\n",
    "    print(\"condition is False\")"
   ]
  },
  {
   "cell_type": "code",
   "execution_count": 9,
   "metadata": {},
   "outputs": [
    {
     "name": "stdout",
     "output_type": "stream",
     "text": [
      "enter a num:9\n",
      "Given number 9 is odd\n"
     ]
    }
   ],
   "source": [
    "x=int(input(\"enter a num:\"))\n",
    "if(x%2==0):\n",
    "    print(\"Given number %d is even\"%(x))\n",
    "else:\n",
    "    print(\"Given number %d is odd\"%(x))\n"
   ]
  },
  {
   "cell_type": "code",
   "execution_count": 11,
   "metadata": {},
   "outputs": [
    {
     "name": "stdout",
     "output_type": "stream",
     "text": [
      "enter 1st num:2\n",
      "enter 2nd num:3\n",
      "enter 3rd num:1\n",
      "1 is greater\n"
     ]
    }
   ],
   "source": [
    "a=int(input(\"enter 1st num:\"))\n",
    "b=int(input(\"enter 2nd num:\"))\n",
    "c=int(input(\"enter 3rd num:\"))\n",
    "if(a<b and a<c):\n",
    "    print(\"%d is greater\"%a)\n",
    "elif(b<c and b<a):\n",
    "    print(\"%d is greater\"%b)\n",
    "elif(c<b and c<a):\n",
    "    print(\"%d is greater\"%c)    \n",
    "    "
   ]
  },
  {
   "cell_type": "code",
   "execution_count": 14,
   "metadata": {},
   "outputs": [
    {
     "name": "stdout",
     "output_type": "stream",
     "text": [
      "enter a num:0\n",
      "%d is zero\n"
     ]
    }
   ],
   "source": [
    "a=int(input(\"enter a num:\"))\n",
    "if(a>0):\n",
    "    print(\"%d is positive\"%a)\n",
    "elif(a<0):\n",
    "    print(\"%d is a negative num\"%a)\n",
    "else:\n",
    "    print(\"%d is zero\")"
   ]
  },
  {
   "cell_type": "markdown",
   "metadata": {},
   "source": [
    "# while loop"
   ]
  },
  {
   "cell_type": "code",
   "execution_count": 7,
   "metadata": {},
   "outputs": [
    {
     "name": "stdout",
     "output_type": "stream",
     "text": [
      "karish karishkarish karish"
     ]
    }
   ],
   "source": [
    "i=1\n",
    "while(i<=2):\n",
    "    print(\"karish\",end=\" \") #if you want to stay in same line then we can use end=\"\"\n",
    "    print(\"karish\",end=\"\") \n",
    "    i=i+1"
   ]
  },
  {
   "cell_type": "markdown",
   "metadata": {},
   "source": [
    "# for loop"
   ]
  },
  {
   "cell_type": "code",
   "execution_count": 8,
   "metadata": {},
   "outputs": [
    {
     "name": "stdout",
     "output_type": "stream",
     "text": [
      "karish\n",
      "25\n",
      "3.6\n"
     ]
    }
   ],
   "source": [
    "x=['karish',25,3.6]\n",
    "for i in x:\n",
    "    print(i)"
   ]
  },
  {
   "cell_type": "code",
   "execution_count": 10,
   "metadata": {},
   "outputs": [
    {
     "name": "stdout",
     "output_type": "stream",
     "text": [
      "123456789"
     ]
    }
   ],
   "source": [
    "for i in range(1,10):\n",
    "    print(i,end=\"\")"
   ]
  },
  {
   "cell_type": "code",
   "execution_count": 12,
   "metadata": {},
   "outputs": [
    {
     "name": "stdout",
     "output_type": "stream",
     "text": [
      "1\n",
      "3\n",
      "5\n",
      "7\n",
      "9\n"
     ]
    }
   ],
   "source": [
    "for i in range(1,10,2):\n",
    "    print(i)"
   ]
  },
  {
   "cell_type": "code",
   "execution_count": 15,
   "metadata": {},
   "outputs": [
    {
     "name": "stdout",
     "output_type": "stream",
     "text": [
      "30\n",
      "28\n",
      "26\n",
      "24\n",
      "22\n",
      "20\n",
      "18\n",
      "16\n",
      "14\n",
      "12\n"
     ]
    }
   ],
   "source": [
    "for i in range(30,10,-2):\n",
    "    print(i)"
   ]
  },
  {
   "cell_type": "markdown",
   "metadata": {},
   "source": [
    "# break,continue,pass"
   ]
  },
  {
   "cell_type": "code",
   "execution_count": 21,
   "metadata": {},
   "outputs": [
    {
     "name": "stdout",
     "output_type": "stream",
     "text": [
      "123karish\n",
      "56789"
     ]
    }
   ],
   "source": [
    "for i in range(1,10):\n",
    "    if(i==4):\n",
    "        print(\"karish\")\n",
    "        continue\n",
    "        print(\"karish\")\n",
    "    print(i,end=\"\")"
   ]
  },
  {
   "cell_type": "code",
   "execution_count": 22,
   "metadata": {},
   "outputs": [
    {
     "name": "stdout",
     "output_type": "stream",
     "text": [
      "123karish\n"
     ]
    }
   ],
   "source": [
    "for i in range(1,10):\n",
    "    if(i==4):\n",
    "        print(\"karish\")\n",
    "        break\n",
    "        print(\"karish\")\n",
    "    print(i,end=\"\")"
   ]
  },
  {
   "cell_type": "code",
   "execution_count": 27,
   "metadata": {},
   "outputs": [
    {
     "name": "stdout",
     "output_type": "stream",
     "text": [
      "1karish\n",
      "karish\n",
      "23456789"
     ]
    }
   ],
   "source": [
    "for i in range(1,10):\n",
    "    if(i==2):\n",
    "        print(\"karish\")\n",
    "        #pass\n",
    "        print(\"karish\")\n",
    "    print(i,end=\"\")"
   ]
  },
  {
   "cell_type": "code",
   "execution_count": 1,
   "metadata": {},
   "outputs": [
    {
     "name": "stdout",
     "output_type": "stream",
     "text": [
      "enter num of candies:2\n",
      "candies\n",
      "candies\n"
     ]
    }
   ],
   "source": [
    "x=int(input(\"enter num of candies:\"))\n",
    "i=1\n",
    "while i<=x:\n",
    "    print(\"candies\")\n",
    "    i+=1"
   ]
  },
  {
   "cell_type": "code",
   "execution_count": 5,
   "metadata": {},
   "outputs": [
    {
     "name": "stdout",
     "output_type": "stream",
     "text": [
      "enter the available candies:3\n",
      "enter num of candies:4\n",
      "candies\n",
      "candies\n",
      "candies\n",
      "available camdies are over\n"
     ]
    }
   ],
   "source": [
    "y=int(input(\"enter the available candies:\"))\n",
    "x=int(input(\"enter num of candies:\"))\n",
    "i=1\n",
    "while i<=x:\n",
    "    if i>y:\n",
    "        print(\"available candies are over\")\n",
    "        break\n",
    "    print(\"candies\")\n",
    "    i+=1"
   ]
  },
  {
   "cell_type": "code",
   "execution_count": 9,
   "metadata": {},
   "outputs": [
    {
     "name": "stdout",
     "output_type": "stream",
     "text": [
      "1,2,4,7,8,11,13,14,16,17,19,22,23,26,28,29,31,32,34,37,38,41,43,44,46,47,49,52,53,56,58,59,61,62,64,67,68,71,73,74,76,77,79,82,83,86,88,89,91,92,94,97,98,"
     ]
    }
   ],
   "source": [
    "#print 1 to 100 exept divisible by 3,5,9\n",
    "for i in range(1,101):\n",
    "    if i%3==0 or i%5==0 or i%9==0:\n",
    "        continue\n",
    "    print(i,end=\",\")    "
   ]
  },
  {
   "cell_type": "code",
   "execution_count": 10,
   "metadata": {},
   "outputs": [
    {
     "name": "stdout",
     "output_type": "stream",
     "text": [
      "2,4,6,8,10,12,14,16,18,20,22,24,26,28,30,32,34,36,38,40,42,44,46,48,50,52,54,56,58,60,62,64,66,68,70,72,74,76,78,80,82,84,86,88,90,92,94,96,98,100,"
     ]
    }
   ],
   "source": [
    "#print 1 to 100 exept odd numbers\n",
    "for i in range(1,101):\n",
    "    if i%2!=0:\n",
    "        continue\n",
    "    print(i,end=\",\")   "
   ]
  },
  {
   "cell_type": "code",
   "execution_count": 16,
   "metadata": {},
   "outputs": [
    {
     "name": "stdout",
     "output_type": "stream",
     "text": [
      "0\n",
      "1\n",
      "1,2,3,5,8,13,21,34,55,89,144,233,377,610,987,1597,2584,4181,6765,10946,17711,28657,46368,75025,121393,196418,317811,514229,832040,1346269,2178309,3524578,5702887,9227465,14930352,24157817,39088169,63245986,102334155,165580141,267914296,433494437,701408733,1134903170,1836311903,2971215073,4807526976,7778742049,12586269025,20365011074,"
     ]
    }
   ],
   "source": [
    "#1st 50 fibonacci series\n",
    "a=0\n",
    "print(a)\n",
    "b=1\n",
    "print(b)\n",
    "c=0\n",
    "x=range(1,51)\n",
    "for i in x:\n",
    "    c=a+b\n",
    "    print(c,end=\",\")\n",
    "    a=b\n",
    "    b=c\n",
    "    \n",
    "    "
   ]
  },
  {
   "cell_type": "code",
   "execution_count": 16,
   "metadata": {},
   "outputs": [
    {
     "name": "stdout",
     "output_type": "stream",
     "text": [
      "enter a num:15\n",
      "not a prime\n"
     ]
    }
   ],
   "source": [
    "#prime number or not\n",
    "x=int(input(\"enter a num:\"))\n",
    "i=2\n",
    "flag=0\n",
    "while(i<=x/2):\n",
    "    if(x%i==0):\n",
    "        flag=1\n",
    "    i+=1 \n",
    "if(flag==0):\n",
    "    print(\"prime\")\n",
    "else:\n",
    "    print(\"not a prime\")\n",
    "    "
   ]
  },
  {
   "cell_type": "code",
   "execution_count": 19,
   "metadata": {},
   "outputs": [
    {
     "name": "stdout",
     "output_type": "stream",
     "text": [
      "####\n",
      "####\n",
      "####\n",
      "####\n"
     ]
    }
   ],
   "source": [
    "for i in range(1,5):\n",
    "    for j in range(1,5):\n",
    "        print(\"#\",end=\"\")\n",
    "    print()    "
   ]
  },
  {
   "cell_type": "code",
   "execution_count": 23,
   "metadata": {},
   "outputs": [
    {
     "name": "stdout",
     "output_type": "stream",
     "text": [
      "#\n",
      "##\n",
      "###\n",
      "####\n"
     ]
    }
   ],
   "source": [
    "for i in range(1,5):\n",
    "    for j in range(1,5):\n",
    "        if(i>=j):\n",
    "            print(\"#\",end=\"\")\n",
    "    print()    "
   ]
  },
  {
   "cell_type": "code",
   "execution_count": 24,
   "metadata": {},
   "outputs": [
    {
     "name": "stdout",
     "output_type": "stream",
     "text": [
      "#\n",
      "##\n",
      "###\n",
      "####\n"
     ]
    }
   ],
   "source": [
    "for i in range(1,5):\n",
    "    for j in range(i):\n",
    "            print(\"#\",end=\"\")\n",
    "    print()    "
   ]
  },
  {
   "cell_type": "code",
   "execution_count": 25,
   "metadata": {},
   "outputs": [
    {
     "name": "stdout",
     "output_type": "stream",
     "text": [
      "enter a size of a pattern3\n",
      "##\n",
      "#\n"
     ]
    }
   ],
   "source": [
    "size=int(input(\"enter a size of a pattern\"))\n",
    "for i in range(1,size):\n",
    "    for j in range(size-i):\n",
    "            print(\"#\",end=\"\")\n",
    "    print()    "
   ]
  },
  {
   "cell_type": "code",
   "execution_count": 34,
   "metadata": {},
   "outputs": [
    {
     "name": "stdout",
     "output_type": "stream",
     "text": [
      "enter a size of a pattern5\n",
      "1234\n",
      "234\n",
      "34\n",
      "4\n"
     ]
    }
   ],
   "source": [
    "size=int(input(\"enter a size of a pattern\"))\n",
    "for i in range(1,size):\n",
    "    a=i\n",
    "    for j in range(size-i):\n",
    "        print(a,end=\"\")\n",
    "        a=a+1\n",
    "    print()    "
   ]
  },
  {
   "cell_type": "code",
   "execution_count": null,
   "metadata": {},
   "outputs": [],
   "source": [
    "#APQR\n",
    "#ABQR\n",
    "#ABCR\n",
    "#ABCD\n",
    "#try this pattern"
   ]
  },
  {
   "cell_type": "code",
   "execution_count": null,
   "metadata": {},
   "outputs": [],
   "source": [
    "for i in range(1,501): #perfect square\n",
    "    if():\n",
    "        print(i)"
   ]
  },
  {
   "cell_type": "code",
   "execution_count": null,
   "metadata": {},
   "outputs": [],
   "source": []
  },
  {
   "cell_type": "code",
   "execution_count": null,
   "metadata": {},
   "outputs": [],
   "source": []
  },
  {
   "cell_type": "code",
   "execution_count": null,
   "metadata": {},
   "outputs": [],
   "source": []
  },
  {
   "cell_type": "code",
   "execution_count": null,
   "metadata": {},
   "outputs": [],
   "source": []
  },
  {
   "cell_type": "code",
   "execution_count": null,
   "metadata": {},
   "outputs": [],
   "source": []
  }
 ],
 "metadata": {
  "kernelspec": {
   "display_name": "Python 3",
   "language": "python",
   "name": "python3"
  },
  "language_info": {
   "codemirror_mode": {
    "name": "ipython",
    "version": 3
   },
   "file_extension": ".py",
   "mimetype": "text/x-python",
   "name": "python",
   "nbconvert_exporter": "python",
   "pygments_lexer": "ipython3",
   "version": "3.6.5"
  }
 },
 "nbformat": 4,
 "nbformat_minor": 2
}
